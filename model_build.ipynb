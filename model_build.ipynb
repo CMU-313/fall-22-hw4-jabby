{
 "cells": [
  {
   "cell_type": "markdown",
   "metadata": {},
   "source": [
    "### Creating and Persisting an ML Model"
   ]
  },
  {
   "cell_type": "code",
   "execution_count": null,
   "metadata": {},
   "outputs": [],
   "source": [
    "import pandas as pd\n",
    "import numpy as np"
   ]
  },
  {
   "cell_type": "markdown",
   "metadata": {},
   "source": [
    "Summary of the data"
   ]
  },
  {
   "cell_type": "code",
   "execution_count": null,
   "metadata": {},
   "outputs": [],
   "source": [
    "df = pd.read_csv('data/student-mat.csv', sep=';')\n",
    "df.describe()\n",
    "df.info"
   ]
  },
  {
   "cell_type": "markdown",
   "metadata": {},
   "source": [
    "The goal is to predict the quality of the student. We will build a predictor based on the final grade (G3).\n",
    "Because we are trying to find quality students. In this model we define a quality student as one who achieves a final grade of 15 or higher. "
   ]
  },
  {
   "cell_type": "markdown",
   "metadata": {},
   "source": [
    "Import scikit-learn and build a random forest classifer"
   ]
  },
  {
   "cell_type": "code",
   "execution_count": 89,
   "metadata": {},
   "outputs": [
    {
     "name": "stdout",
     "output_type": "stream",
     "text": [
      "Index(['Medu', 'failures', 'absences', 'G1', 'G2'], dtype='object')\n",
      "accuracy = 0.9822784810126582,\tF1 = 0.9510489510489512\n"
     ]
    }
   ],
   "source": [
    "import sklearn\n",
    "from sklearn.ensemble import RandomForestClassifier\n",
    "from sklearn.linear_model import LogisticRegression\n",
    "from sklearn.metrics import accuracy_score, f1_score\n",
    "from sklearn.feature_selection import SelectKBest, chi2\n",
    "\n",
    "# Lists of all useable features in df (except 'G3' and 'qual_student')\n",
    "# PROBLEM: linear/logistic regression can't use categorical features (eg. school, sex)!\n",
    "all_features = ['school', 'sex', 'age', 'address', 'famsize', 'Pstatus', 'Medu', 'Fedu',\n",
    "    'Mjob', 'Fjob', 'reason', 'guardian', 'traveltime', 'studytime',\n",
    "    'failures', 'schoolsup', 'famsup', 'paid', 'activities', 'nursery',\n",
    "    'higher', 'internet', 'romantic', 'famrel', 'freetime', 'goout', 'Dalc',\n",
    "    'Walc', 'health', 'absences', 'G1', 'G2']\n",
    "all_numerical_features = ['age', 'Medu', 'Fedu', 'traveltime', 'studytime', 'failures', 'famrel',\n",
    "    'freetime', 'goout', 'Dalc', 'Walc', 'health', 'absences', 'G1', 'G2']\n",
    "\n",
    "\n",
    "# Return x (reduced features) and y (qual_student labels)\n",
    "def parse_data(df, include):\n",
    "    df['qual_student'] = np.where(df['G3']>=15, 1, 0)\n",
    "    \n",
    "    x = df[include]\n",
    "    y = df['qual_student']\n",
    "    return x, y\n",
    "\n",
    "# Print accuracy/F1\n",
    "def print_scores(y, pred):\n",
    "    print('accuracy = {},\\tF1 = {}'.format( \\\n",
    "        accuracy_score(y, pred), f1_score(y, pred, average='binary')) )\n",
    "\n",
    "# Select the best k features to use\n",
    "# k=5: ['Medu', 'failures', 'absences', 'G1', 'G2']\n",
    "x, y = parse_data(df, all_numerical_features)\n",
    "k = 5\n",
    "features = SelectKBest(chi2, k=k).fit(x, y).get_support()\n",
    "include = x.columns[features]\n",
    "print(include)\n",
    "\n",
    "# Build ML model using best k features\n",
    "x, y = parse_data(df, include)\n",
    "clf = LogisticRegression()\n",
    "clf.fit(x, y)\n",
    "\n",
    "# Get prediction scores\n",
    "pred = clf.predict(x)\n",
    "print_scores(y, pred)"
   ]
  },
  {
   "cell_type": "markdown",
   "metadata": {},
   "source": [
    "It's not very good! We didn't even cross validate. You'll need to do better :)\n",
    "Let's export this model so we can use it in a microservice (flask api)"
   ]
  },
  {
   "cell_type": "code",
   "execution_count": null,
   "metadata": {},
   "outputs": [],
   "source": [
    "import joblib\n",
    "# TODO: Change these lines\n",
    "# modify the file path to where you want to save the model\n",
    "joblib.dump(clf, 'app/handlers/model.pkl')\n",
    "query_df = pd.DataFrame({ 'age' : pd.Series(1) ,'health' : pd.Series(15) ,'absences' : pd.Series(10)})\n",
    "pred = clf.predict(query_df)\n",
    "type(x)"
   ]
  }
 ],
 "metadata": {
  "kernelspec": {
   "display_name": "Python 3.8.13 ('se_envir')",
   "language": "python",
   "name": "python3"
  },
  "language_info": {
   "codemirror_mode": {
    "name": "ipython",
    "version": 3
   },
   "file_extension": ".py",
   "mimetype": "text/x-python",
   "name": "python",
   "nbconvert_exporter": "python",
   "pygments_lexer": "ipython3",
   "version": "3.8.13"
  },
  "vscode": {
   "interpreter": {
    "hash": "621476933c8d5ad44cc784c1dfa91d2ab6cfa115cd86c9e7951c974eb4870de9"
   }
  }
 },
 "nbformat": 4,
 "nbformat_minor": 2
}
